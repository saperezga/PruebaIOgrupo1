{
  "nbformat": 4,
  "nbformat_minor": 0,
  "metadata": {
    "colab": {
      "provenance": [],
      "authorship_tag": "ABX9TyO8wMiFi/q3m5bSkBjscf3f",
      "include_colab_link": true
    },
    "kernelspec": {
      "name": "python3",
      "display_name": "Python 3"
    },
    "language_info": {
      "name": "python"
    }
  },
  "cells": [
    {
      "cell_type": "markdown",
      "metadata": {
        "id": "view-in-github",
        "colab_type": "text"
      },
      "source": [
        "<a href=\"https://colab.research.google.com/github/saperezga/PruebaIOgrupo1/blob/main/SAPEREZGA__Prueba.ipynb\" target=\"_parent\"><img src=\"https://colab.research.google.com/assets/colab-badge.svg\" alt=\"Open In Colab\"/></a>"
      ]
    },
    {
      "cell_type": "markdown",
      "source": [
        "# Esto es un titulo"
      ],
      "metadata": {
        "id": "wKcNbc0teyQy"
      }
    },
    {
      "cell_type": "markdown",
      "source": [
        "### Esto es un subtitulo"
      ],
      "metadata": {
        "id": "TqFhsoSYfc_o"
      }
    },
    {
      "cell_type": "code",
      "execution_count": 1,
      "metadata": {
        "colab": {
          "base_uri": "https://localhost:8080/"
        },
        "id": "SmgjRUMteito",
        "outputId": "634bf717-8853-402f-99c3-3d08874de7e2"
      },
      "outputs": [
        {
          "output_type": "stream",
          "name": "stdout",
          "text": [
            "hello\n"
          ]
        }
      ],
      "source": [
        "print(\"Hola Mundo\")"
      ]
    },
    {
      "cell_type": "markdown",
      "source": [
        "# Segundo Ejercicio\n"
      ],
      "metadata": {
        "id": "wkUzvazOf3qn"
      }
    },
    {
      "cell_type": "code",
      "source": [
        "print(\"Buenos dias, Ricardo\")"
      ],
      "metadata": {
        "colab": {
          "base_uri": "https://localhost:8080/"
        },
        "id": "qUnT_yBKf8JJ",
        "outputId": "f9a0b4c9-6b1b-4786-aa53-02e2937ca3e7"
      },
      "execution_count": 2,
      "outputs": [
        {
          "output_type": "stream",
          "name": "stdout",
          "text": [
            "Buenos dias, Ricardo\n"
          ]
        }
      ]
    }
  ]
}